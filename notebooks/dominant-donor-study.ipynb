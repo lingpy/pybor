{
 "cells": [
  {
   "cell_type": "code",
   "execution_count": 1,
   "metadata": {},
   "outputs": [
    {
     "data": {
      "text/html": [
       "<style>.container { width:80% !important; }</style>"
      ],
      "text/plain": [
       "<IPython.core.display.HTML object>"
      ]
     },
     "metadata": {},
     "output_type": "display_data"
    }
   ],
   "source": [
    "from IPython.core.display import display, HTML\n",
    "display(HTML(\"<style>.container { width:80% !important; }</style>\"))\n",
    "\n",
    "# Set to automatically reload.\n",
    "%load_ext autoreload\n",
    "%autoreload 2\n",
    "\n",
    "from IPython.core.interactiveshell import InteractiveShell\n",
    "InteractiveShell.ast_node_interactivity = \"all\"\n"
   ]
  },
  {
   "cell_type": "markdown",
   "metadata": {},
   "source": [
    "# Ransdomization estimation of probability of event  \n",
    "## Using Student's intependent t-test as measure\n",
    "-  Sensitive to change in location - such as average prediction metrics."
   ]
  },
  {
   "cell_type": "code",
   "execution_count": 2,
   "metadata": {},
   "outputs": [],
   "source": [
    "from scipy.stats import ttest_ind\n",
    "import random \n",
    "import math\n",
    "\n",
    "def randomization_t_test(flags, values,  max_iter=1000):\n",
    "    ref_t = ttest_ind(values[flags], values[~flags], equal_var=False)[0]\n",
    "    \n",
    "    values = values.copy()\n",
    "    results = []\n",
    "    for i in range(max_iter):\n",
    "        random.shuffle(values)\n",
    "        results.append(ttest_ind(values[flags], values[~flags], equal_var=False)[0])\n",
    "        \n",
    "    results.sort()\n",
    "\n",
    "    def find_index(elements, value):\n",
    "        left, right = 0, len(elements) - 1\n",
    "\n",
    "        while left <= right:\n",
    "            middle = (left + right) // 2\n",
    "\n",
    "            if math.isclose(elements[middle], value):\n",
    "                return middle\n",
    "            # Could improve this to give more precise value at lower end.\n",
    "            elif middle == left or middle == right:\n",
    "                return (left+right)/2\n",
    "\n",
    "            if elements[middle] < value:\n",
    "                left = middle + 1\n",
    "            elif elements[middle] > value:\n",
    "                right = middle - 1\n",
    "            \n",
    "    posn = find_index(results, ref_t)\n",
    "    \n",
    "    p_value = (posn+0.5)/max_iter\n",
    "    p_value = min(p_value, 1-p_value)\n",
    "    return (ref_t, p_value)\n",
    "    "
   ]
  },
  {
   "cell_type": "markdown",
   "metadata": {},
   "source": [
    "# Dominant donor study - dominant by fraction of borrowed  "
   ]
  },
  {
   "cell_type": "code",
   "execution_count": 3,
   "metadata": {},
   "outputs": [],
   "source": [
    "import pandas as pd\n",
    "\n",
    "def test_for_dominant_donor_difference(borrowed_min_val, fraction=0.667, max_iter=100):\n",
    "\n",
    "    min_val = str(borrowed_min_val)\n",
    "    table = pd.read_csv(\"cv-10-fold-all-Tokens-10-fold-CV-min-\"+min_val+\"-prfa-bydonormin.csv\")\n",
    "\n",
    "    donor_flag = table['donor_frac'].ge(fraction)\n",
    "    table = table.iloc[:,3:]\n",
    "    print(table.groupby(donor_flag).size())\n",
    "    print(table.groupby(donor_flag).mean())\n",
    "    \n",
    "    for col in table.columns:\n",
    "        result = randomization_t_test(donor_flag, table[col], max_iter=max_iter)\n",
    "        print(f'Var {col}, t={result[0]:.3f}, p-value={result[1]:.4f}')\n"
   ]
  },
  {
   "cell_type": "code",
   "execution_count": 4,
   "metadata": {},
   "outputs": [
    {
     "name": "stdout",
     "output_type": "stream",
     "text": [
      "donor_frac\n",
      "False    9\n",
      "True     8\n",
      "dtype: int64\n",
      "             bs_prec  bs_recall     bs_f1    bs_acc   md_prec  md_recall  \\\n",
      "donor_frac                                                                 \n",
      "False       0.308444   0.672111  0.389889  0.759444  0.672222   0.585111   \n",
      "True        0.536125   0.739250  0.587500  0.795625  0.785125   0.722375   \n",
      "\n",
      "               md_f1    md_acc   nd_prec  nd_recall     nd_f1    nd_acc  \n",
      "donor_frac                                                               \n",
      "False       0.622444  0.771000  0.690111   0.606889  0.642333  0.784333  \n",
      "True        0.749125  0.835625  0.810375   0.722250  0.759500  0.842625  \n",
      "Var bs_prec, t=2.141, p-value=0.0293\n",
      "Var bs_recall, t=2.306, p-value=0.0177\n",
      "Var bs_f1, t=1.973, p-value=0.0336\n",
      "Var bs_acc, t=1.230, p-value=0.1254\n",
      "Var md_prec, t=3.781, p-value=0.0017\n",
      "Var md_recall, t=3.345, p-value=0.0025\n",
      "Var md_f1, t=3.640, p-value=0.0007\n",
      "Var md_acc, t=2.625, p-value=0.0127\n",
      "Var nd_prec, t=4.832, p-value=0.0009\n",
      "Var nd_recall, t=2.628, p-value=0.0082\n",
      "Var nd_f1, t=3.535, p-value=0.0037\n",
      "Var nd_acc, t=2.600, p-value=0.0097\n"
     ]
    }
   ],
   "source": [
    "test_for_dominant_donor_difference(300, fraction=0.667, max_iter=5000)"
   ]
  },
  {
   "cell_type": "code",
   "execution_count": 5,
   "metadata": {},
   "outputs": [
    {
     "name": "stdout",
     "output_type": "stream",
     "text": [
      "donor_frac\n",
      "False    14\n",
      "True     15\n",
      "dtype: int64\n",
      "             bs_prec  bs_recall     bs_f1    bs_acc   md_prec  md_recall  \\\n",
      "donor_frac                                                                 \n",
      "False       0.223857   0.523643  0.287857  0.783857  0.646071   0.531643   \n",
      "True        0.438933   0.733467  0.505200  0.837667  0.762067   0.632533   \n",
      "\n",
      "               md_f1    md_acc  nd_prec  nd_recall     nd_f1    nd_acc  \n",
      "donor_frac                                                              \n",
      "False       0.577857  0.777643   0.6740   0.556214  0.602429  0.791214  \n",
      "True        0.684600  0.843733   0.8056   0.644533  0.707600  0.851267  \n",
      "Var bs_prec, t=2.443, p-value=0.0102\n",
      "Var bs_recall, t=2.414, p-value=0.0112\n",
      "Var bs_f1, t=2.356, p-value=0.0142\n",
      "Var bs_acc, t=2.156, p-value=0.0180\n",
      "Var md_prec, t=3.740, p-value=0.0012\n",
      "Var md_recall, t=2.199, p-value=0.0185\n",
      "Var md_f1, t=2.760, p-value=0.0042\n",
      "Var md_acc, t=3.291, p-value=0.0012\n",
      "Var nd_prec, t=4.531, p-value=0.0002\n",
      "Var nd_recall, t=1.811, p-value=0.0399\n",
      "Var nd_f1, t=2.623, p-value=0.0087\n",
      "Var nd_acc, t=3.008, p-value=0.0032\n"
     ]
    }
   ],
   "source": [
    "test_for_dominant_donor_difference(200, fraction=0.667, max_iter=5000)"
   ]
  },
  {
   "cell_type": "code",
   "execution_count": 6,
   "metadata": {},
   "outputs": [
    {
     "name": "stdout",
     "output_type": "stream",
     "text": [
      "donor_frac\n",
      "False    17\n",
      "True     20\n",
      "dtype: int64\n",
      "             bs_prec  bs_recall     bs_f1    bs_acc   md_prec  md_recall  \\\n",
      "donor_frac                                                                 \n",
      "False       0.192353   0.497706  0.252176  0.801647  0.639294   0.505118   \n",
      "True        0.418000   0.736650  0.490200  0.858100  0.762550   0.599550   \n",
      "\n",
      "               md_f1    md_acc   nd_prec  nd_recall     nd_f1    nd_acc  \n",
      "donor_frac                                                               \n",
      "False       0.558235  0.788824  0.654941   0.513412  0.567294  0.794118  \n",
      "True        0.661950  0.855900  0.787850   0.619400  0.684950  0.865000  \n",
      "Var bs_prec, t=3.101, p-value=0.0012\n",
      "Var bs_recall, t=3.072, p-value=0.0007\n",
      "Var bs_f1, t=3.100, p-value=0.0017\n",
      "Var bs_acc, t=2.386, p-value=0.0097\n",
      "Var md_prec, t=4.551, p-value=0.0002\n",
      "Var md_recall, t=2.136, p-value=0.0210\n",
      "Var md_f1, t=2.783, p-value=0.0047\n",
      "Var md_acc, t=3.771, p-value=0.0002\n",
      "Var nd_prec, t=4.280, p-value=0.0002\n",
      "Var nd_recall, t=2.163, p-value=0.0180\n",
      "Var nd_f1, t=2.767, p-value=0.0037\n",
      "Var nd_acc, t=4.215, p-value=0.0002\n"
     ]
    }
   ],
   "source": [
    "test_for_dominant_donor_difference(100, fraction=0.667, max_iter=5000)"
   ]
  },
  {
   "cell_type": "code",
   "execution_count": null,
   "metadata": {},
   "outputs": [],
   "source": []
  }
 ],
 "metadata": {
  "kernelspec": {
   "display_name": "Python 3",
   "language": "python",
   "name": "python3"
  },
  "language_info": {
   "codemirror_mode": {
    "name": "ipython",
    "version": 3
   },
   "file_extension": ".py",
   "mimetype": "text/x-python",
   "name": "python",
   "nbconvert_exporter": "python",
   "pygments_lexer": "ipython3",
   "version": "3.8.2"
  }
 },
 "nbformat": 4,
 "nbformat_minor": 4
}
