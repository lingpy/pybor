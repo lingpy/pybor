{
 "cells": [
  {
   "cell_type": "markdown",
   "metadata": {},
   "source": [
    "# Construct individual language datasets from WOLD  "
   ]
  },
  {
   "cell_type": "code",
   "execution_count": 1,
   "metadata": {},
   "outputs": [
    {
     "data": {
      "text/html": [
       "<style>.container { width:80% !important; }</style>"
      ],
      "text/plain": [
       "<IPython.core.display.HTML object>"
      ]
     },
     "metadata": {},
     "output_type": "display_data"
    }
   ],
   "source": [
    "from IPython.core.display import display, HTML\n",
    "display(HTML(\"<style>.container { width:80% !important; }</style>\"))\n",
    "\n",
    "# Do this once in the kernel.\n",
    "import sys\n",
    "sys.path.append('code')"
   ]
  },
  {
   "cell_type": "code",
   "execution_count": 2,
   "metadata": {},
   "outputs": [],
   "source": [
    "import numpy as np\n",
    "import pandas as pd\n",
    "import matplotlib.pyplot as plt\n",
    "\n",
    "from collections import *\n",
    "import math\n",
    "import statistics\n",
    "\n",
    "import sklearn.metrics as metrics\n",
    "\n",
    "from lexibank_wold import Dataset as DS\n",
    "from tabulate import tabulate\n",
    "import lingpy\n",
    "\n",
    "# Set to automatically reload.\n",
    "%load_ext autoreload\n",
    "%autoreload 2"
   ]
  },
  {
   "cell_type": "code",
   "execution_count": 7,
   "metadata": {},
   "outputs": [
    {
     "data": {
      "text/plain": [
       "'code/__pycache__/load_data_fn.cpython-38.pyc'"
      ]
     },
     "execution_count": 7,
     "metadata": {},
     "output_type": "execute_result"
    }
   ],
   "source": [
    "# Compile code for MarkovCharLM...\n",
    "import py_compile\n",
    "codedir = 'code/'\n",
    "py_compile.compile(codedir+'load_data_fn.py')"
   ]
  },
  {
   "cell_type": "code",
   "execution_count": 8,
   "metadata": {},
   "outputs": [],
   "source": [
    "from load_data_fn import load_wordlist\n",
    "from load_data_fn import get_language_data\n",
    "from load_data_fn import write_language_table\n",
    "from load_data_fn import get_write_language"
   ]
  },
  {
   "cell_type": "code",
   "execution_count": 9,
   "metadata": {},
   "outputs": [
    {
     "name": "stdout",
     "output_type": "stream",
     "text": [
      "['parameter_id', 'doculect', 'form', 'tokens', 'loan', 'concept', 'borrowed']\n",
      "----------  ----------------  ---------  ---------------------  -----    -------------------------------------\n",
      "1_theworld  Swahili           dunia      ɗ u n i a              True     1. clearly borrowed\n",
      "1_theworld  Swahili           ulimwengu  u l i m w e ⁿg u       False    4. very little evidence for borrowing\n",
      "1_theworld  Iraqw             yaamu      j aː m u               False    5. no evidence for borrowing\n",
      "1_theworld  Gawwada           ʔalame     ʔ a l a m e            True     1. clearly borrowed\n",
      "1_theworld  Hausa             dúuníyàa   d ú/u u n í/i j àa/aː  True     1. clearly borrowed\n",
      "1_theworld  Kanuri            dúnyâ      d ú/u ɲ â/a            True     1. clearly borrowed\n",
      "1_theworld  TarifiytBerber    ddənya     dː ə n y a             True     1. clearly borrowed\n",
      "1_theworld  SeychellesCreole  lemonn     l e m ɔ̃ n              False    5. no evidence for borrowing\n",
      "1_theworld  Romanian          lume       l u m e                False    5. no evidence for borrowing\n",
      "----------  ----------------  ---------  ---------------------  -----    -------------------------------------\n",
      "['Archi', 'Bezhta', 'CeqWong', 'Dutch', 'English', 'Gawwada', 'Gurindji', 'Hausa', 'Hawaiian', 'Hup', 'ImbaburaQuechua', 'Indonesian', 'Iraqw', 'Japanese', 'Kalina', 'Kanuri', 'Ket', 'KildinSaami', 'LowerSorbian', 'Malagasy', 'Manange', 'MandarinChinese', 'Mapudungun', 'OldHighGerman', 'Oroqen', 'Otomi', 'Qeqchi', 'Romanian', 'Sakha', 'Saramaccan', 'SeliceRomani', 'SeychellesCreole', 'Swahili', 'Takia', 'TarifiytBerber', 'Thai', 'Vietnamese', 'WhiteHmong', 'Wichi', 'Yaqui', 'ZinacantanTzotzil']\n"
     ]
    }
   ],
   "source": [
    "wl = load_wordlist()\n",
    "print(wl.columns)\n",
    "\n",
    "# Print wordlist head\n",
    "print(tabulate([wl[idx] for idx in range(1, 10)]))\n",
    "# Language is still defined, but used doculet in list form.\n",
    "print(wl.language) "
   ]
  },
  {
   "cell_type": "code",
   "execution_count": 10,
   "metadata": {},
   "outputs": [
    {
     "name": "stdout",
     "output_type": "stream",
     "text": [
      "Language English from wordlist has 1516 concepts/forms\n",
      "Language English written to table has 1516 concepts/forms\n",
      "Language Hup from wordlist has 1179 concepts/forms\n",
      "Language Hup written to table has 1179 concepts/forms\n",
      "Language ImbaburaQuechua from wordlist has 1319 concepts/forms\n",
      "Language ImbaburaQuechua written to table has 1319 concepts/forms\n",
      "Language Mapudungun from wordlist has 1412 concepts/forms\n",
      "Language Mapudungun written to table has 1412 concepts/forms\n",
      "Language Qeqchi from wordlist has 1995 concepts/forms\n",
      "Language Qeqchi written to table has 1995 concepts/forms\n",
      "Language Wichi from wordlist has 1361 concepts/forms\n",
      "Language Wichi written to table has 1361 concepts/forms\n"
     ]
    }
   ],
   "source": [
    "# List of languages to process.\n",
    "study_languages = ['English', 'Hup', 'ImbaburaQuechua', 'Mapudungun', 'Qeqchi', 'Wichi']\n",
    "for l in study_languages:\n",
    "    get_write_language(wordlist=wl, language=l)\n",
    "    "
   ]
  },
  {
   "cell_type": "code",
   "execution_count": null,
   "metadata": {},
   "outputs": [],
   "source": []
  }
 ],
 "metadata": {
  "kernelspec": {
   "display_name": "Python 3",
   "language": "python",
   "name": "python3"
  },
  "language_info": {
   "codemirror_mode": {
    "name": "ipython",
    "version": 3
   },
   "file_extension": ".py",
   "mimetype": "text/x-python",
   "name": "python",
   "nbconvert_exporter": "python",
   "pygments_lexer": "ipython3",
   "version": "3.8.2"
  }
 },
 "nbformat": 4,
 "nbformat_minor": 4
}
