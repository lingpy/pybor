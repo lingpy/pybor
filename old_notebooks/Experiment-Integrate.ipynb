{
 "cells": [
  {
   "cell_type": "code",
   "execution_count": 3,
   "metadata": {},
   "outputs": [
    {
     "data": {
      "text/html": [
       "<style>.container { width:80% !important; }</style>"
      ],
      "text/plain": [
       "<IPython.core.display.HTML object>"
      ]
     },
     "metadata": {},
     "output_type": "display_data"
    },
    {
     "name": "stdout",
     "output_type": "stream",
     "text": [
      "The autoreload extension is already loaded. To reload it, use:\n",
      "  %reload_ext autoreload\n"
     ]
    }
   ],
   "source": [
    "from IPython.core.display import display, HTML\n",
    "display(HTML(\"<style>.container { width:80% !important; }</style>\"))\n",
    "\n",
    "# Do this once in the kernel.\n",
    "import sys\n",
    "sys.path.append('src')\n",
    "sys.path.append('tests')\n",
    "\n",
    "# Set to automatically reload.\n",
    "# Turn off for now.\n",
    "%load_ext autoreload\n",
    "%autoreload 2\n",
    "\n",
    "from IPython.core.interactiveshell import InteractiveShell\n",
    "InteractiveShell.ast_node_interactivity = \"all\""
   ]
  },
  {
   "cell_type": "markdown",
   "metadata": {},
   "source": [
    "# Plan of experiment  \n",
    "- Verify that the wordlist tools work as advertised.  \n",
    "- Upgrade shell Markov class to include MarkovCharLM class and perform stub funcions.  \n",
    "- Demonstrate plotting separate from Markov module.\n",
    "- Integrate command line access.  \n",
    "- Upgrade features as needed.  "
   ]
  },
  {
   "cell_type": "code",
   "execution_count": 37,
   "metadata": {},
   "outputs": [
    {
     "data": {
      "text/plain": [
       "'src/mobor/__pycache__/__init__.cpython-38.pyc'"
      ]
     },
     "execution_count": 37,
     "metadata": {},
     "output_type": "execute_result"
    },
    {
     "data": {
      "text/plain": [
       "'src/mobor/__pycache__/cli.cpython-38.pyc'"
      ]
     },
     "execution_count": 37,
     "metadata": {},
     "output_type": "execute_result"
    },
    {
     "data": {
      "text/plain": [
       "'src/mobor/__pycache__/data.cpython-38.pyc'"
      ]
     },
     "execution_count": 37,
     "metadata": {},
     "output_type": "execute_result"
    },
    {
     "data": {
      "text/plain": [
       "'src/mobor/__pycache__/markov.cpython-38.pyc'"
      ]
     },
     "execution_count": 37,
     "metadata": {},
     "output_type": "execute_result"
    },
    {
     "data": {
      "text/plain": [
       "'src/mobor/__pycache__/plot.cpython-38.pyc'"
      ]
     },
     "execution_count": 37,
     "metadata": {},
     "output_type": "execute_result"
    },
    {
     "data": {
      "text/plain": [
       "'src/mobor/commands/__pycache__/__init__.cpython-38.pyc'"
      ]
     },
     "execution_count": 37,
     "metadata": {},
     "output_type": "execute_result"
    },
    {
     "data": {
      "text/plain": [
       "'src/mobor/commands/__pycache__/plot_entropy.cpython-38.pyc'"
      ]
     },
     "execution_count": 37,
     "metadata": {},
     "output_type": "execute_result"
    }
   ],
   "source": [
    "# Compile code for MarkovCharLM...\n",
    "import py_compile\n",
    "#py_compile.compile('src/utility_functions.py')\n",
    "#py_compile.compile('src/markov_char_lm.py')\n",
    "#py_compile.compile('src/markov_model_analysis.py')\n",
    "\n",
    "py_compile.compile('src/mobor/__init__.py')\n",
    "py_compile.compile('src/mobor/cli.py')\n",
    "py_compile.compile('src/mobor/data.py')\n",
    "py_compile.compile('src/mobor/markov.py')\n",
    "py_compile.compile('src/mobor/plot.py')\n",
    "\n",
    "py_compile.compile('src/mobor/commands/__init__.py')\n",
    "py_compile.compile('src/mobor/commands/plot_entropy.py')\n"
   ]
  },
  {
   "cell_type": "code",
   "execution_count": 3,
   "metadata": {},
   "outputs": [],
   "source": [
    "#from utility_functions import *\n",
    "#from markov_char_lm import MarkovCharLM\n",
    "#from markov_model_analysis import analyze_language_word_distributions\n",
    "#from markov_model_analysis import analyze_language_word_distributions_native_basis\n",
    "#from markov_model_analysis import language_word_discrimination_dual_basis\n",
    "#from markov_model_analysis import language_word_discrimination_native_basis\n",
    "#from markov_model_analysis import language_word_discrimination_dual_basis\n",
    "#from markov_model_analysis import language_word_discrimination_native_basis\n",
    "#from markov_model_analysis import k_fold_language_word_discrimination_native_basis\n",
    "#from markov_model_analysis import k_fold_language_word_discrimination_dual_basis\n",
    "#from markov_model_analysis import k_fold_entropy_for_language\n"
   ]
  },
  {
   "cell_type": "markdown",
   "metadata": {},
   "source": [
    "# Implement wordlist functions.  "
   ]
  },
  {
   "cell_type": "code",
   "execution_count": 5,
   "metadata": {},
   "outputs": [],
   "source": [
    "from mobor.cli import main\n",
    "from mobor.data import Wordlist\n",
    "from mobor.markov import Markov\n",
    "from mobor.plot import plot_word_distributions\n",
    "from mobor.commands import plot_entropy\n",
    "from tabulate import tabulate\n",
    "import math\n"
   ]
  },
  {
   "cell_type": "code",
   "execution_count": 6,
   "metadata": {},
   "outputs": [
    {
     "name": "stderr",
     "output_type": "stream",
     "text": [
      "2020-04-29 09:11:08,709 [INFO] loaded wordlist 1814 concepts and 41 languages\n"
     ]
    }
   ],
   "source": [
    "wl = Wordlist.from_lexibank('wold', \n",
    "                            fields=['borrowed'],\n",
    "                            #fields=['loan', 'borrowed'],\n",
    "                            fieldfunctions={\"borrowed\": lambda x: (int(x[0])*-1+5)/4})"
   ]
  },
  {
   "cell_type": "code",
   "execution_count": 7,
   "metadata": {},
   "outputs": [
    {
     "data": {
      "text/plain": [
       "['concept',\n",
       " 'concepticon',\n",
       " 'doculect',\n",
       " 'glottocode',\n",
       " 'value',\n",
       " 'form',\n",
       " 'tokens',\n",
       " 'borrowed']"
      ]
     },
     "execution_count": 7,
     "metadata": {},
     "output_type": "execute_result"
    }
   ],
   "source": [
    "wl.columns"
   ]
  },
  {
   "cell_type": "code",
   "execution_count": 8,
   "metadata": {},
   "outputs": [
    {
     "name": "stdout",
     "output_type": "stream",
     "text": [
      "|    |   id | concept                | form      | formchars         | tokens          | sca             |   borrowed |\n",
      "|---:|-----:|:-----------------------|:----------|:------------------|:----------------|:----------------|-----------:|\n",
      "|  0 |   14 | the world              | world     | w o r l d         | w ɜː l d        | W E L T         |       0    |\n",
      "|  1 |   63 | the land               | land      | l a n d           | l æ n d         | L E N T         |       0    |\n",
      "|  2 |  112 | the soil               | soil      | s o i l           | s ɔɪ l          | S U L           |       1    |\n",
      "|  3 |  158 | the dust               | dust      | d u s t           | d ʌ s t         | T E S T         |       0    |\n",
      "|  4 |  213 | the mud                | mud       | m u d             | m ʌ d           | M E T           |       0.5  |\n",
      "|  5 |  265 | the sand               | sand      | s a n d           | s æ n d         | S E N T         |       0    |\n",
      "|  6 |  320 | the mountain or hill   | mountain  | m o u n t a i n   | m aʊ n t ɪ n    | M A N T I N     |       1    |\n",
      "|  7 |  321 | the mountain or hill   | hill      | h i l l           | h ɪ l           | H I L           |       0    |\n",
      "|  8 |  387 | the cliff or precipice | cliff     | c l i f f         | k l ɪ f         | K L I B         |       0.25 |\n",
      "|  9 |  388 | the cliff or precipice | precipice | p r e c i p i c e | p r ɛ s ɪ p ɪ s | P R E S I P I S |       1    |\n",
      "| 10 |  436 | the plain              | plain     | p l a i n         | p l eɪ n        | P L E N         |       1    |\n",
      "| 11 |  485 | the valley             | valley    | v a l l e y       | v æ l ɪ         | B E L I         |       1    |\n",
      "| 12 |  533 | the island             | island    | i s l a n d       | aɪ l ə n d      | A L E N T       |       0    |\n",
      "| 13 |  572 | the mainland           | mainland  | m a i n l a n d   | m eɪ n l ə n d  | M E N L E N T   |       0    |\n",
      "| 14 |  614 | the shore              | shore     | s h o r e         | ʃ ɔː ɹ          | S U R           |       0.75 |\n",
      "| 15 |  667 | the cave               | cave      | c a v e           | k eɪ v          | K E B           |       1    |\n",
      "| 16 |  714 | the water              | water     | w a t e r         | w ɔː t ə ɹ      | W U T E R       |       0    |\n",
      "| 17 |  760 | the sea                | sea       | s e a             | s iː            | S I             |       0    |\n",
      "| 18 |  802 | calm                   | calm      | c a l m           | k ɑː m          | K A M           |       1    |\n",
      "| 19 |  838 | rough(2)               | rough     | r o u g h         | r ʌ f           | R E B           |       0    |\n"
     ]
    }
   ],
   "source": [
    "# Dropped loan.\n",
    "#table = wl.get_language('English', [ 'concept', 'form', 'formchars', 'tokens', 'sca', 'borrowed', 'loan'],\n",
    "#                       dtypes=[str, str, str, str, str, lambda x: '{0:.2f}'.format(x), str])\n",
    "\n",
    "\n",
    "# Repeat  execution of cell will overwrite formchars and sca, with warning from Wordlist.\n",
    "# Loan can be calculated based on borrowed. Better local control to determine what is loan or native.\n",
    "table = wl.get_language('English', [ 'concept', 'form', 'formchars', 'tokens', 'sca', 'borrowed'],\n",
    "                       dtypes=[str, str, str, str, str, lambda x: '{0:.2f}'.format(x)])\n",
    "\n",
    "print(tabulate(table[:20], headers=['id', 'concept', 'form', 'formchars', 'tokens', 'sca', 'borrowed'], \n",
    "               showindex=True, tablefmt='pipe'))"
   ]
  },
  {
   "cell_type": "markdown",
   "metadata": {},
   "source": [
    "# Now we add our Markov module.  "
   ]
  },
  {
   "cell_type": "code",
   "execution_count": 9,
   "metadata": {},
   "outputs": [
    {
     "name": "stdout",
     "output_type": "stream",
     "text": [
      "Column <sca> already exists, do you want to override? [y/N] \n",
      "Column <formchars> already exists, do you want to override? [y/N] \n"
     ]
    }
   ],
   "source": [
    "mk = Markov(\n",
    "        wl, \n",
    "        'English', \n",
    "        ['concept', 'form', 'formchars', 'tokens', 'sca', 'borrowed'],\n",
    "        dtypes = [str, str, str, str, str, float]\n",
    "        )\n",
    "mk.add_sequences(\n",
    "        [row['formchars'] for row in mk.now['dicts']])\n",
    "        #[row['tokens'] for row in mk.now['dicts']])\n",
    "\n",
    "mk.train(normalize='kneserney', smoothing=0.5)\n",
    "e = mk.entropies(base=math.e)"
   ]
  },
  {
   "cell_type": "code",
   "execution_count": 10,
   "metadata": {},
   "outputs": [
    {
     "data": {
      "text/plain": [
       "(1.9902002011346245, 0.290948012422926)"
      ]
     },
     "execution_count": 10,
     "metadata": {},
     "output_type": "execute_result"
    },
    {
     "data": {
      "text/plain": [
       "2.427853112521614"
      ]
     },
     "execution_count": 10,
     "metadata": {},
     "output_type": "execute_result"
    },
    {
     "data": {
      "text/plain": [
       "11.334521996830762"
      ]
     },
     "execution_count": 10,
     "metadata": {},
     "output_type": "execute_result"
    }
   ],
   "source": [
    "import statistics\n",
    "statistics.mean(e), statistics.stdev(e)\n",
    "mk.entropy('p r e c i p i c e', base=math.e)\n",
    "mk.perplexity('p r e c i p i c e')"
   ]
  },
  {
   "cell_type": "code",
   "execution_count": 11,
   "metadata": {},
   "outputs": [],
   "source": [
    "# Try out the separate native and loan distributions.\n",
    "borrowed, unborrowed = [], []\n",
    "for row in mk.now['dicts']:\n",
    "    if row['borrowed']>=0.5:\n",
    "        borrowed += [mk.entropy(row['formchars'], base=math.e)]\n",
    "    else:\n",
    "        unborrowed += [mk.entropy(row['formchars'], base=math.e)]\n"
   ]
  },
  {
   "cell_type": "code",
   "execution_count": 12,
   "metadata": {},
   "outputs": [
    {
     "data": {
      "text/plain": [
       "([2.0454917751852766,\n",
       "  2.196889631800196,\n",
       "  1.9486609799511732,\n",
       "  2.427853112521614,\n",
       "  1.715207590878187,\n",
       "  2.4741154508126817,\n",
       "  1.7793358248411277,\n",
       "  1.7669675593666816,\n",
       "  1.8048695572510849,\n",
       "  2.8970546746961316],\n",
       " [2.143393640428475,\n",
       "  1.585473699520013,\n",
       "  2.347456025892021,\n",
       "  1.714624447020079,\n",
       "  1.8340975400578026,\n",
       "  1.982194227263887,\n",
       "  2.3953584939661874,\n",
       "  1.9393344993437245,\n",
       "  1.5876087048980039,\n",
       "  2.6863305157365884])"
      ]
     },
     "execution_count": 12,
     "metadata": {},
     "output_type": "execute_result"
    },
    {
     "data": {
      "text/plain": [
       "(2.0408674969805616, 1.9528816773901372)"
      ]
     },
     "execution_count": 12,
     "metadata": {},
     "output_type": "execute_result"
    }
   ],
   "source": [
    "borrowed[:10], unborrowed[:10]\n",
    "statistics.mean(borrowed), statistics.mean(unborrowed)"
   ]
  },
  {
   "cell_type": "code",
   "execution_count": 36,
   "metadata": {},
   "outputs": [
    {
     "data": {
      "image/png": "[encoded data removed]",
      "text/plain": [
       "<Figure size 576x360 with 1 Axes>"
      ]
     },
     "metadata": {
      "needs_background": "light"
     },
     "output_type": "display_data"
    }
   ],
   "source": [
    "plot_word_distributions(unborrowed, borrowed, filename='test.pdf', \n",
    "            title=\"English language native and loan entropies\", \n",
    "            graphlimit=max([max(borrowed), max(unborrowed)])+1)"
   ]
  },
  {
   "cell_type": "code",
   "execution_count": 39,
   "metadata": {},
   "outputs": [
    {
     "name": "stderr",
     "output_type": "stream",
     "text": [
      "2020-04-29 10:16:28,784 [INFO] loaded wordlist 1814 concepts and 41 languages\n"
     ]
    },
    {
     "name": "stdout",
     "output_type": "stream",
     "text": [
      "|   id | concept                | form      | formchars         | tokens          | sca             |   borrowed |\n",
      "|-----:|:-----------------------|:----------|:------------------|:----------------|:----------------|-----------:|\n",
      "|   14 | the world              | world     | w o r l d         | w ɜː l d        | W E L T         |       0    |\n",
      "|   63 | the land               | land      | l a n d           | l æ n d         | L E N T         |       0    |\n",
      "|  112 | the soil               | soil      | s o i l           | s ɔɪ l          | S U L           |       1    |\n",
      "|  158 | the dust               | dust      | d u s t           | d ʌ s t         | T E S T         |       0    |\n",
      "|  213 | the mud                | mud       | m u d             | m ʌ d           | M E T           |       0.5  |\n",
      "|  265 | the sand               | sand      | s a n d           | s æ n d         | S E N T         |       0    |\n",
      "|  320 | the mountain or hill   | mountain  | m o u n t a i n   | m aʊ n t ɪ n    | M A N T I N     |       1    |\n",
      "|  321 | the mountain or hill   | hill      | h i l l           | h ɪ l           | H I L           |       0    |\n",
      "|  387 | the cliff or precipice | cliff     | c l i f f         | k l ɪ f         | K L I B         |       0.25 |\n",
      "|  388 | the cliff or precipice | precipice | p r e c i p i c e | p r ɛ s ɪ p ɪ s | P R E S I P I S |       1    |\n",
      "|  436 | the plain              | plain     | p l a i n         | p l eɪ n        | P L E N         |       1    |\n",
      "|  485 | the valley             | valley    | v a l l e y       | v æ l ɪ         | B E L I         |       1    |\n",
      "|  533 | the island             | island    | i s l a n d       | aɪ l ə n d      | A L E N T       |       0    |\n",
      "|  572 | the mainland           | mainland  | m a i n l a n d   | m eɪ n l ə n d  | M E N L E N T   |       0    |\n",
      "|  614 | the shore              | shore     | s h o r e         | ʃ ɔː ɹ          | S U R           |       0.75 |\n",
      "|  667 | the cave               | cave      | c a v e           | k eɪ v          | K E B           |       1    |\n",
      "|  714 | the water              | water     | w a t e r         | w ɔː t ə ɹ      | W U T E R       |       0    |\n",
      "|  760 | the sea                | sea       | s e a             | s iː            | S I             |       0    |\n",
      "|  802 | calm                   | calm      | c a l m           | k ɑː m          | K A M           |       1    |\n",
      "|  838 | rough(2)               | rough     | r o u g h         | r ʌ f           | R E B           |       0    |\n"
     ]
    }
   ],
   "source": [
    "%run \"tests/test_data.py\""
   ]
  },
  {
   "cell_type": "code",
   "execution_count": 38,
   "metadata": {},
   "outputs": [
    {
     "name": "stderr",
     "output_type": "stream",
     "text": [
      "2020-04-29 10:16:02,582 [INFO] loaded wordlist 1814 concepts and 41 languages\n"
     ]
    },
    {
     "name": "stdout",
     "output_type": "stream",
     "text": [
      "loaded markov\n",
      "emitted graph to test.pdf\n"
     ]
    },
    {
     "data": {
      "image/png": "[encoded data removed]",
      "text/plain": [
       "<Figure size 576x360 with 1 Axes>"
      ]
     },
     "metadata": {
      "needs_background": "light"
     },
     "output_type": "display_data"
    }
   ],
   "source": [
    "%run \"tests/test_markov.py\""
   ]
  },
  {
   "cell_type": "code",
   "execution_count": null,
   "metadata": {},
   "outputs": [],
   "source": []
  }
 ],
 "metadata": {
  "kernelspec": {
   "display_name": "Python 3",
   "language": "python",
   "name": "python3"
  },
  "language_info": {
   "codemirror_mode": {
    "name": "ipython",
    "version": 3
   },
   "file_extension": ".py",
   "mimetype": "text/x-python",
   "name": "python",
   "nbconvert_exporter": "python",
   "pygments_lexer": "ipython3",
   "version": "3.8.2"
  }
 },
 "nbformat": 4,
 "nbformat_minor": 4
}
